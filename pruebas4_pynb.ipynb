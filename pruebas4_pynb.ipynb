{
  "nbformat": 4,
  "nbformat_minor": 0,
  "metadata": {
    "colab": {
      "name": "pruebas4.pynb",
      "provenance": [],
      "collapsed_sections": [],
      "authorship_tag": "ABX9TyM2vwBel+I5PdYm3bViIy4g",
      "include_colab_link": true
    },
    "kernelspec": {
      "name": "python3",
      "display_name": "Python 3"
    },
    "language_info": {
      "name": "python"
    }
  },
  "cells": [
    {
      "cell_type": "markdown",
      "metadata": {
        "id": "view-in-github",
        "colab_type": "text"
      },
      "source": [
        "<a href=\"https://colab.research.google.com/github/luis66995/pruebas66995/blob/main/pruebas4_pynb.ipynb\" target=\"_parent\"><img src=\"https://colab.research.google.com/assets/colab-badge.svg\" alt=\"Open In Colab\"/></a>"
      ]
    },
    {
      "cell_type": "code",
      "metadata": {
        "id": "AB9C3za6l-Ux"
      },
      "source": [
        "class Nodo:\n",
        "    def __init__(self, value, siguiente=None):\n",
        "        self.data = value\n",
        "        self.next = siguiente\n",
        "\n",
        "\n",
        "class Prueba_Examen_1358:\n",
        "    def __init__( self ):\n",
        "        self.head = None\n",
        "\n",
        "    def esta_vacia( self ):\n",
        "        return self.head == None\n",
        "\n",
        "    def obtnener_de_tail( self ):\n",
        "        curr_node = self.head\n",
        "        if curr_node != None:\n",
        "            while curr_node.next != None:\n",
        "                curr_node = curr_node.next\n",
        "        return curr_node\n",
        "\n",
        "    def agregar_dato( self , dato ):\n",
        "        if self.esta_vacia() :\n",
        "           self.head = Nodo( dato )\n",
        "        else:\n",
        "            self.get_tail().next = Nodo(dato)\n",
        "    \n",
        "    def transversal( self ):\n",
        "        curr_node = self.head\n",
        "        while curr_node != None:\n",
        "            if curr_node.next == None:\n",
        "                print( curr_node.data)\n",
        "            else:\n",
        "                print( curr_node.data , end=\" *--> \")\n",
        "            curr_node = curr_node.next\n",
        "   \n",
        "    def agregarDespuesDelDato( self, prev, dato ):\n",
        "        curr_node = self.head\n",
        "        while curr_node != None:\n",
        "            if curr_node.data == prev:\n",
        "                tmp = curr_node.next\n",
        "                curr_node.next = Nodo(dato,tmp)\n",
        "                break\n",
        "            curr_node = curr_node.next"
      ],
      "execution_count": null,
      "outputs": []
    },
    {
      "cell_type": "code",
      "metadata": {
        "id": "h3Kj6LDOuVpS"
      },
      "source": [
        "\n",
        "#***probar los metodos**** \n",
        "prueba = Prueba_Examen_1358()\n",
        "prueba.agregar_dato(50)\n",
        "prueba.agregar_dato(55)\n",
        "prueba.agregar_dato(60)\n",
        "prueba.agregar_dato(65)\n",
        "prueba.transversal()\n",
        "prueba.agregarDespuesDelDato( 55, 57 )\n",
        "prueba.transversal() "
      ],
      "execution_count": null,
      "outputs": []
    }
  ]
}